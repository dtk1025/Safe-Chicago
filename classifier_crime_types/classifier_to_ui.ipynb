{
 "cells": [
  {
   "cell_type": "markdown",
   "metadata": {
    "id": "TYaOiO70i0sU"
   },
   "source": [
    "### Integrate classifier with UI"
   ]
  },
  {
   "cell_type": "code",
   "execution_count": null,
   "metadata": {
    "id": "LX3W-el7Py9C"
   },
   "outputs": [],
   "source": [
    "# !pip install pygeohash\n",
    "# !pip install geocoder\n",
    "import pickle\n",
    "import json\n",
    "import pandas as pd\n",
    "import pygeohash as pgh\n",
    "from safechicago import utilities"
   ]
  },
  {
   "cell_type": "code",
   "execution_count": null,
   "metadata": {
    "colab": {
     "base_uri": "https://localhost:8080/"
    },
    "executionInfo": {
     "elapsed": 3285,
     "status": "ok",
     "timestamp": 1668214749046,
     "user": {
      "displayName": "Lawrence Huang",
      "userId": "10805837719374301755"
     },
     "user_tz": 480
    },
    "id": "AASq6Z4VP4JX",
    "outputId": "7c549196-b65b-4e5c-fdb4-7c47bc2a8b2f"
   },
   "outputs": [
    {
     "name": "stdout",
     "output_type": "stream",
     "text": [
      "dict_keys(['clf', 'le', 'preprocessor', 'X_test', 'X_test_enc'])\n"
     ]
    }
   ],
   "source": [
    "# load saved classifier\n",
    "fn = '/content/drive/MyDrive/VotingClassifier1_save_file.pkl'\n",
    "with open(fn, 'rb') as f:\n",
    "    clf_save_file = pickle.load(f)\n",
    "print(clf_save_file.keys())   \n",
    "\n",
    "eclf = clf_save_file['clf']\n",
    "le = clf_save_file['le']\n",
    "preprocessor = clf_save_file['preprocessor']"
   ]
  },
  {
   "cell_type": "code",
   "execution_count": null,
   "metadata": {
    "colab": {
     "base_uri": "https://localhost:8080/"
    },
    "executionInfo": {
     "elapsed": 526,
     "status": "ok",
     "timestamp": 1668214749567,
     "user": {
      "displayName": "Lawrence Huang",
      "userId": "10805837719374301755"
     },
     "user_tz": 480
    },
    "id": "eg7DwT2AP5qk",
    "outputId": "b2e92a88-fa4d-4196-adeb-180503f11e1f"
   },
   "outputs": [
    {
     "name": "stdout",
     "output_type": "stream",
     "text": [
      "geohash: dp3wm2\n",
      "beat: 1224\n"
     ]
    }
   ],
   "source": [
    "# example lat, lng \n",
    "lat, lng = 41.8844542, -87.651350\n",
    "\n",
    "# geohash (from lat & lng)\n",
    "gh = pgh.encode(lat, lng, precision=6)\n",
    "print('geohash:', gh)\n",
    "\n",
    "# isday\n",
    "# e.g., df['isday'] = (df['hour'] > 5) & (df['hour'] < 18)\n",
    "\n",
    "# dayofweek\n",
    "# from pd.Series.dt.dayofweek\n",
    "\n",
    "# isholiday\n",
    "# e.g., from pandas.tseries.holiday import USFederalHolidayCalendar as calendar\n",
    "\n",
    "# beat (from lat & lng)\n",
    "fn = '/content/drive/MyDrive/Boundaries - Police Beats (current).geojson'\n",
    "with open(fn) as fh:\n",
    "  boundaries = json.load(fh)\n",
    "\n",
    "beat = utilities.geocode_geojson_beat(lat=lat, lng=lng, boundaries=boundaries)\n",
    "print('beat:', beat) "
   ]
  },
  {
   "cell_type": "code",
   "execution_count": null,
   "metadata": {
    "colab": {
     "base_uri": "https://localhost:8080/",
     "height": 81
    },
    "executionInfo": {
     "elapsed": 202,
     "status": "ok",
     "timestamp": 1668214749763,
     "user": {
      "displayName": "Lawrence Huang",
      "userId": "10805837719374301755"
     },
     "user_tz": 480
    },
    "id": "yJ3HBKGWP-iZ",
    "outputId": "5882e171-200e-4225-99d9-a2eedf4c905e"
   },
   "outputs": [
    {
     "data": {
      "text/html": [
       "\n",
       "  <div id=\"df-2751826f-bafc-4682-9eb7-ef6d65e27b34\">\n",
       "    <div class=\"colab-df-container\">\n",
       "      <div>\n",
       "<style scoped>\n",
       "    .dataframe tbody tr th:only-of-type {\n",
       "        vertical-align: middle;\n",
       "    }\n",
       "\n",
       "    .dataframe tbody tr th {\n",
       "        vertical-align: top;\n",
       "    }\n",
       "\n",
       "    .dataframe thead th {\n",
       "        text-align: right;\n",
       "    }\n",
       "</style>\n",
       "<table border=\"1\" class=\"dataframe\">\n",
       "  <thead>\n",
       "    <tr style=\"text-align: right;\">\n",
       "      <th></th>\n",
       "      <th>beat</th>\n",
       "      <th>temp</th>\n",
       "      <th>wind</th>\n",
       "      <th>rain</th>\n",
       "      <th>snow</th>\n",
       "      <th>bulls</th>\n",
       "      <th>cubs</th>\n",
       "      <th>sox</th>\n",
       "      <th>bears</th>\n",
       "      <th>isholiday</th>\n",
       "      <th>month</th>\n",
       "      <th>day</th>\n",
       "      <th>hour</th>\n",
       "      <th>dayofweek</th>\n",
       "      <th>isday</th>\n",
       "      <th>geohash</th>\n",
       "    </tr>\n",
       "  </thead>\n",
       "  <tbody>\n",
       "    <tr>\n",
       "      <th>0</th>\n",
       "      <td>735</td>\n",
       "      <td>-5.1</td>\n",
       "      <td>4.0</td>\n",
       "      <td>0.0</td>\n",
       "      <td>0.0</td>\n",
       "      <td>True</td>\n",
       "      <td>False</td>\n",
       "      <td>False</td>\n",
       "      <td>False</td>\n",
       "      <td>False</td>\n",
       "      <td>2</td>\n",
       "      <td>14</td>\n",
       "      <td>21</td>\n",
       "      <td>0</td>\n",
       "      <td>False</td>\n",
       "      <td>dp3tsg</td>\n",
       "    </tr>\n",
       "  </tbody>\n",
       "</table>\n",
       "</div>\n",
       "      <button class=\"colab-df-convert\" onclick=\"convertToInteractive('df-2751826f-bafc-4682-9eb7-ef6d65e27b34')\"\n",
       "              title=\"Convert this dataframe to an interactive table.\"\n",
       "              style=\"display:none;\">\n",
       "        \n",
       "  <svg xmlns=\"http://www.w3.org/2000/svg\" height=\"24px\"viewBox=\"0 0 24 24\"\n",
       "       width=\"24px\">\n",
       "    <path d=\"M0 0h24v24H0V0z\" fill=\"none\"/>\n",
       "    <path d=\"M18.56 5.44l.94 2.06.94-2.06 2.06-.94-2.06-.94-.94-2.06-.94 2.06-2.06.94zm-11 1L8.5 8.5l.94-2.06 2.06-.94-2.06-.94L8.5 2.5l-.94 2.06-2.06.94zm10 10l.94 2.06.94-2.06 2.06-.94-2.06-.94-.94-2.06-.94 2.06-2.06.94z\"/><path d=\"M17.41 7.96l-1.37-1.37c-.4-.4-.92-.59-1.43-.59-.52 0-1.04.2-1.43.59L10.3 9.45l-7.72 7.72c-.78.78-.78 2.05 0 2.83L4 21.41c.39.39.9.59 1.41.59.51 0 1.02-.2 1.41-.59l7.78-7.78 2.81-2.81c.8-.78.8-2.07 0-2.86zM5.41 20L4 18.59l7.72-7.72 1.47 1.35L5.41 20z\"/>\n",
       "  </svg>\n",
       "      </button>\n",
       "      \n",
       "  <style>\n",
       "    .colab-df-container {\n",
       "      display:flex;\n",
       "      flex-wrap:wrap;\n",
       "      gap: 12px;\n",
       "    }\n",
       "\n",
       "    .colab-df-convert {\n",
       "      background-color: #E8F0FE;\n",
       "      border: none;\n",
       "      border-radius: 50%;\n",
       "      cursor: pointer;\n",
       "      display: none;\n",
       "      fill: #1967D2;\n",
       "      height: 32px;\n",
       "      padding: 0 0 0 0;\n",
       "      width: 32px;\n",
       "    }\n",
       "\n",
       "    .colab-df-convert:hover {\n",
       "      background-color: #E2EBFA;\n",
       "      box-shadow: 0px 1px 2px rgba(60, 64, 67, 0.3), 0px 1px 3px 1px rgba(60, 64, 67, 0.15);\n",
       "      fill: #174EA6;\n",
       "    }\n",
       "\n",
       "    [theme=dark] .colab-df-convert {\n",
       "      background-color: #3B4455;\n",
       "      fill: #D2E3FC;\n",
       "    }\n",
       "\n",
       "    [theme=dark] .colab-df-convert:hover {\n",
       "      background-color: #434B5C;\n",
       "      box-shadow: 0px 1px 3px 1px rgba(0, 0, 0, 0.15);\n",
       "      filter: drop-shadow(0px 1px 2px rgba(0, 0, 0, 0.3));\n",
       "      fill: #FFFFFF;\n",
       "    }\n",
       "  </style>\n",
       "\n",
       "      <script>\n",
       "        const buttonEl =\n",
       "          document.querySelector('#df-2751826f-bafc-4682-9eb7-ef6d65e27b34 button.colab-df-convert');\n",
       "        buttonEl.style.display =\n",
       "          google.colab.kernel.accessAllowed ? 'block' : 'none';\n",
       "\n",
       "        async function convertToInteractive(key) {\n",
       "          const element = document.querySelector('#df-2751826f-bafc-4682-9eb7-ef6d65e27b34');\n",
       "          const dataTable =\n",
       "            await google.colab.kernel.invokeFunction('convertToInteractive',\n",
       "                                                     [key], {});\n",
       "          if (!dataTable) return;\n",
       "\n",
       "          const docLinkHtml = 'Like what you see? Visit the ' +\n",
       "            '<a target=\"_blank\" href=https://colab.research.google.com/notebooks/data_table.ipynb>data table notebook</a>'\n",
       "            + ' to learn more about interactive tables.';\n",
       "          element.innerHTML = '';\n",
       "          dataTable['output_type'] = 'display_data';\n",
       "          await google.colab.output.renderOutput(dataTable, element);\n",
       "          const docLink = document.createElement('div');\n",
       "          docLink.innerHTML = docLinkHtml;\n",
       "          element.appendChild(docLink);\n",
       "        }\n",
       "      </script>\n",
       "    </div>\n",
       "  </div>\n",
       "  "
      ],
      "text/plain": [
       "   beat  temp  wind  rain  snow  bulls   cubs    sox  bears  isholiday  month  \\\n",
       "0   735  -5.1   4.0   0.0   0.0   True  False  False  False      False      2   \n",
       "\n",
       "   day  hour  dayofweek  isday geohash  \n",
       "0   14    21          0  False  dp3tsg  "
      ]
     },
     "execution_count": 4,
     "metadata": {},
     "output_type": "execute_result"
    }
   ],
   "source": [
    "from_user = pd.DataFrame({'beat':735, 'temp':-5.1, 'wind':4.0, 'rain':0.0, 'snow':0.0,\n",
    "                          'bulls':True, 'cubs':False, 'sox':False, 'bears':False,\n",
    "                          'isholiday':False, 'month':2, 'day':14, 'hour':21, 'dayofweek':0, 'isday':False, 'geohash':'dp3tsg'},\n",
    "                         index=[0])\n",
    "from_user"
   ]
  },
  {
   "cell_type": "code",
   "execution_count": null,
   "metadata": {
    "colab": {
     "base_uri": "https://localhost:8080/"
    },
    "executionInfo": {
     "elapsed": 557,
     "status": "ok",
     "timestamp": 1668214750319,
     "user": {
      "displayName": "Lawrence Huang",
      "userId": "10805837719374301755"
     },
     "user_tz": 480
    },
    "id": "w7EzYV44QNaz",
    "outputId": "33085aaa-57da-4812-9ffe-f3f9ada20368"
   },
   "outputs": [
    {
     "data": {
      "text/plain": [
       "{'BATTERY': 0.25971488865267756,\n",
       " 'THEFT': 0.1329520716502209,\n",
       " 'CRIMINAL DAMAGE': 0.12937911604380878}"
      ]
     },
     "execution_count": 5,
     "metadata": {},
     "output_type": "execute_result"
    }
   ],
   "source": [
    "# example UI output\n",
    "to_display = utilities.get_crime_types(clf=eclf, le=le, X_test_sample=pd.DataFrame(preprocessor.transform(from_user), columns=preprocessor.get_feature_names_out()))\n",
    "to_display"
   ]
  }
 ],
 "metadata": {
  "colab": {
   "authorship_tag": "ABX9TyPxrhZpzsJjS/lyc3hv71bO",
   "mount_file_id": "1TCO4PVfi8D0sbkqmxIgL9Nhh4jNEl0Qv",
   "provenance": []
  },
  "kernelspec": {
   "display_name": "Python 3 (ipykernel)",
   "language": "python",
   "name": "python3"
  },
  "language_info": {
   "codemirror_mode": {
    "name": "ipython",
    "version": 3
   },
   "file_extension": ".py",
   "mimetype": "text/x-python",
   "name": "python",
   "nbconvert_exporter": "python",
   "pygments_lexer": "ipython3",
   "version": "3.8.12"
  }
 },
 "nbformat": 4,
 "nbformat_minor": 1
}
